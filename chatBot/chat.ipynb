{
 "cells": [
  {
   "cell_type": "code",
   "execution_count": 19,
   "metadata": {},
   "outputs": [],
   "source": [
    "import nltk\n",
    "from nltk.chat.util import Chat  , reflections"
   ]
  },
  {
   "cell_type": "code",
   "execution_count": 20,
   "metadata": {},
   "outputs": [
    {
     "data": {
      "text/plain": [
       "{'i am': 'you are',\n",
       " 'i was': 'you were',\n",
       " 'i': 'you',\n",
       " \"i'm\": 'you are',\n",
       " \"i'd\": 'you would',\n",
       " \"i've\": 'you have',\n",
       " \"i'll\": 'you will',\n",
       " 'my': 'your',\n",
       " 'you are': 'I am',\n",
       " 'you were': 'I was',\n",
       " \"you've\": 'I have',\n",
       " \"you'll\": 'I will',\n",
       " 'your': 'my',\n",
       " 'yours': 'mine',\n",
       " 'you': 'me',\n",
       " 'me': 'you'}"
      ]
     },
     "execution_count": 20,
     "metadata": {},
     "output_type": "execute_result"
    }
   ],
   "source": [
    "reflections"
   ]
  },
  {
   "cell_type": "code",
   "execution_count": 21,
   "metadata": {},
   "outputs": [
    {
     "name": "stdout",
     "output_type": "stream",
     "text": [
      "<class 'nltk.chat.util.Chat'>\n"
     ]
    }
   ],
   "source": [
    "print(Chat)"
   ]
  },
  {
   "cell_type": "code",
   "execution_count": 22,
   "metadata": {},
   "outputs": [],
   "source": [
    "set_pairs = [\n",
    "    [\n",
    "        r\"my name is (.*)\",\n",
    "        [\"hello %1 , How are you today?\",]\n",
    "    ],\n",
    "    [\n",
    "        r\"hi|hey|hello\",\n",
    "        [\"Hello\" , 'Hey there',]\n",
    "    ],\n",
    "    [\n",
    "        r\"what is your name ?\",\n",
    "        [\"You can call my a chatbot ?\",]\n",
    "    ],\n",
    "    [\n",
    "        r\"How are you ?\",\n",
    "        [\"I am fine , thank you ! How can i help you ?\",]\n",
    "    ],\n",
    "    [\n",
    "        r\"I am fine , thank you\",\n",
    "        [\"Great to hear that , How can i help you ?\",]\n",
    "    ],\n",
    "    [\n",
    "        r\"How can i help you ?\",\n",
    "        [\"i am looking for online guides and courses to learn data science , can you suggest some thing to me ?\",]\n",
    "    ],\n",
    "    [\n",
    "        r\"i'm (.*) \",\n",
    "        [\"That's great to hear\" , \"how can i help you ? :)\",]\n",
    "    ],\n",
    "    [\n",
    "        r\"i am looking for online guides and courses to learn data science , can you suggest some thing to me ?\",\n",
    "        [\"elzero channel is a great option  to learn data science , you can check his channel\"]\n",
    "    ],\n",
    "    [\n",
    "        r\"thank for the suggestion . do they have greate authors and instructors\",\n",
    "        [\"yes , they have the world class best authors , that is their strength :)\",]\n",
    "    ],\n",
    "    [\n",
    "        r\"(.*) thanks you so much , that was helpful\",\n",
    "        [\"i'm happy to help\" , \"No problem , you are welcome\",]\n",
    "    ],\n",
    "    [\n",
    "        r\"quit|end|thanks|goodbye|bye|see you soon\",\n",
    "        [\"Bye , take care. see you soon :) \", \"it was nice talking to you . see you soon :)\"]\n",
    "    ],\n",
    "    [\n",
    "        r\"can you help me\",\n",
    "        [\"yes , sure انت تامر ياسيد الناس\"]\n",
    "    ],\n",
    "    [\n",
    "        r\"do you love me\",\n",
    "        ['sure , i love you prince']\n",
    "    ],\n",
    "]"
   ]
  },
  {
   "cell_type": "code",
   "execution_count": 23,
   "metadata": {},
   "outputs": [
    {
     "name": "stdout",
     "output_type": "stream",
     "text": [
      "<nltk.chat.util.Chat object at 0x0000014ADBE85010>\n"
     ]
    }
   ],
   "source": [
    "chat = Chat(set_pairs , reflections)\n",
    "print(chat)\n"
   ]
  },
  {
   "cell_type": "code",
   "execution_count": 24,
   "metadata": {},
   "outputs": [
    {
     "name": "stdout",
     "output_type": "stream",
     "text": [
      "Hey there\n",
      "hello khaled , How are you today?\n",
      "hello khaled , How are you today?\n",
      "yes , sure انت تامر ياسيد الناس\n",
      "elzero channel is a great option  to learn data science , you can check his channel\n",
      "elzero channel is a great option  to learn data science , you can check his channel\n",
      "yes , they have the world class best authors , that is their strength :)\n",
      "yes , they have the world class best authors , that is their strength :)\n",
      "it was nice talking to you . see you soon :)\n"
     ]
    }
   ],
   "source": [
    "chat.converse()"
   ]
  },
  {
   "cell_type": "code",
   "execution_count": 25,
   "metadata": {},
   "outputs": [],
   "source": [
    "import nltk\n",
    "import numpy as np\n",
    "import random\n",
    "import string\n",
    "import bs4 as bs\n",
    "import requests\n",
    "import re\n",
    "import warnings\n",
    "\n",
    "warnings.filterwarnings = False"
   ]
  },
  {
   "cell_type": "code",
   "execution_count": 26,
   "metadata": {},
   "outputs": [],
   "source": [
    "from sklearn.feature_extraction.text import TfidfVectorizer\n",
    "from sklearn.metrics.pairwise import cosine_similarity"
   ]
  },
  {
   "cell_type": "code",
   "execution_count": 9,
   "metadata": {},
   "outputs": [
    {
     "name": "stderr",
     "output_type": "stream",
     "text": [
      "[nltk_data] Downloading package punkt to\n",
      "[nltk_data]     C:\\Users\\khaledtarek\\AppData\\Roaming\\nltk_data...\n",
      "[nltk_data]   Unzipping tokenizers\\punkt.zip.\n",
      "[nltk_data] Downloading package wordnet to\n",
      "[nltk_data]     C:\\Users\\khaledtarek\\AppData\\Roaming\\nltk_data...\n"
     ]
    },
    {
     "data": {
      "text/plain": [
       "True"
      ]
     },
     "execution_count": 9,
     "metadata": {},
     "output_type": "execute_result"
    }
   ],
   "source": [
    "nltk.download('punkt')\n",
    "nltk.download('wordnet')"
   ]
  },
  {
   "cell_type": "code",
   "execution_count": 27,
   "metadata": {},
   "outputs": [
    {
     "name": "stdout",
     "output_type": "stream",
     "text": [
      "<Response [200]>\n"
     ]
    }
   ],
   "source": [
    "r = requests.get('https://en.wikipedia.org/wiki/Cuisine')\n",
    "print(r)\n",
    "raw_html = r.text"
   ]
  },
  {
   "cell_type": "code",
   "execution_count": 28,
   "metadata": {},
   "outputs": [],
   "source": [
    "corpus_html = bs.BeautifulSoup(raw_html)\n",
    "courps_paras = corpus_html.find_all('p')\n",
    "courps_txt = ''\n",
    "\n",
    "for paras in courps_paras:\n",
    "    courps_txt += paras.text\n",
    "\n",
    "courps_txt = courps_txt.lower()"
   ]
  },
  {
   "cell_type": "code",
   "execution_count": 29,
   "metadata": {},
   "outputs": [
    {
     "name": "stdout",
     "output_type": "stream",
     "text": [
      "\n",
      "a cuisine  is a style of cooking characterized by distinctive ingredients, techniques and dishes, and usually associated with a specific culture or geographic region. regional food preparation techniques, customs, and ingredients  combine to enable dishes unique to a region.[1]\n",
      "used in english since the late 18th century, the word cuisine – meaning manner or style of cooking – is borrowed from the french for \"style of cooking,\" as originally derived from latin coquere \"to cook\".[2]\n",
      "a cuisine is partly determined by ingredients that are available locally or through trade. regional ingredients are developed and commonly contribute to a regional or national cuisine, such as japanese rice in japanese cuisine.\n",
      "religious food laws can also exercise an influence on cuisine, such as indian cuisine and hinduism that is mainly lacto-vegetarian (avoiding meat and eggs) due to sacred animal worship. sikhism in punjabi cuisine, buddhism in east asian cuisine, christianity in european cuisine,[3][4][5] islam in middle eastern cuisine, and judaism in jewish and israeli cuisine.\n",
      "some factors that have an influence on a region's cuisine include the area's climate, the trade among different countries, religious or sumptuary laws and culinary culture exchange. for example, a tropical diet may be based more on fruits and vegetables, while a polar diet might rely more on meat and fish.\n",
      "the area's climate, in large measure, determines the native foods that are available. in addition, climate influences food preservation. for example, foods preserved for winter consumption by smoking, curing, and pickling have remained significant in world cuisines for their altered gustatory properties.\n",
      "the trade among different countries also largely affects a region's cuisine. dating back to the ancient spice trade, seasonings such as cinnamon, cassia, cardamom, ginger, and turmeric were important items of commerce in the earliest evolution of trade, and india was a global market for this. cinnamon and cassia found their way to the middle east at least 4,000 years ago.[6]\n",
      "certain foods and food preparations are required or proscribed by the religiousness or sumptuary laws, such as islamic dietary laws and jewish dietary laws.\n",
      "culinary culture exchange is also an important factor for cuisine in many regions: japan's first substantial and direct exposure to the west came with the arrival of european missionaries in the second half of the 16th century. at that time, the combination of spanish and portuguese game frying techniques with an east asian method for cooking vegetables in oil led to the development of tempura, the \"popular japanese dish in which seafood and many different types of vegetables are coated with batter and deep fried\".[7]\n",
      "cuisine dates back to the antiquity. as food began to require more planning, there was an emergence of meals that situated around culture.[8]\n",
      "cuisines evolve continually, and new cuisines are created by innovation and cultural interaction. one recent example is fusion cuisine, which combines elements of various culinary traditions while not being categorized per any one cuisine style, and generally refers to the innovations in many contemporary restaurant cuisines since the 1970s.[9] nouvelle cuisine (new cuisine) is an approach to cooking and food presentation in french cuisine that was popularized in the 1960s by the food critics henri gault, who invented the phrase, and his colleagues andré gayot and christian millau in a new restaurant guide, the gault-millau, or le nouveau guide.[citation needed] molecular cuisine, is a modern style of cooking which takes advantage of many technical innovations from the scientific disciplines (molecular cooking). the term was coined in 1999 by the french inra chemist hervé this because he wanted to distinguish it from the name molecular gastronomy (a scientific activity) that was  introduced by him and the late oxford physicist nicholas kurti in 1988.[10] it is also named as multi sensory cooking, modernist cuisine, culinary physics, and experimental cuisine by some chefs.[11] besides, international trade brings new foodstuffs including ingredients to existing cuisines and leads to changes. the introduction of hot pepper to china from south america around the end of the 17th century, greatly influencing sichuan cuisine, which combines the original taste (with use of sichuan pepper) with the taste of newly introduced hot pepper and creates a unique mala (麻辣) flavor that's mouth-numbingly spicy and pungent.[12]\n",
      "a global cuisine is a cuisine that is practiced around the world, and can be categorized according to the common use of major foodstuffs, including grains, produce and cooking fats.\n",
      "regional cuisines can vary based on availability and usage of specific ingredients, local cooking traditions and practices, as well as overall cultural differences.[13] such factors can be more-or-less uniform across wide swaths of territory, or vary intensely within individual regions. for example, in central and north south america, corn (maize), both fresh and dried, is a staple food, and is used in many different ways. in northern europe, wheat, rye, and fats of animal origin predominate, while in southern europe olive oil is ubiquitous and rice is more prevalent. in italy, the cuisine of the north, featuring butter and rice, stands in contrast to that of the south, with its wheat pasta and olive oil. in some parts of china, rice is the staple, while in others this role is filled by noodles and bread. throughout the middle east and mediterranean, common ingredients include lamb, olive oil, lemons, peppers, and rice. the vegetarianism practiced in much of india has made pulses (crops harvested solely for the dry seed) such as chickpeas and lentils as important as wheat or rice. from india to indonesia, the extensive use of spices is characteristic; coconuts and seafood are also used throughout the region both as foodstuffs and as seasonings.\n",
      "african cuisines use a combination of locally available fruits, cereals and vegetables, as well as milk and meat products. in some parts of the continent, the traditional diet features a preponderance of milk, curd and whey products. in much of tropical africa, however, cow's milk is rare and cannot be produced locally (owing to various diseases that affect livestock). the continent's diverse demographic makeup is reflected in the many different eating and drinking habits, dishes, and preparation techniques of its manifold populations.[14]\n",
      "typical ethiopian and eritrean cuisine: injera (thin pancake-like bread) and several kinds of wat (stew)\n",
      "a ramadan dinner in tanzania\n",
      "yassa is a popular dish throughout west africa prepared with chicken or fish. chicken yassa is pictured.\n",
      "spices at central market in agadir, morocco\n",
      "due to asia's vast size and extremely diverse geography and demographics, asian cuisines are many and varied, and include east asian cuisine, south asian cuisine, southeast asian cuisine, central asian cuisine and west asian cuisine. ingredients common to east asia and southeast asia (due to overseas chinese influence) include rice, ginger, garlic, sesame seeds, chilies, dried onions, soy, and tofu, with stir frying, steaming, and deep frying being common cooking methods. while rice is common to most regional cuisines in asia, different varieties are popular in the different regions: basmati rice is popular in south asia, jasmine rice in southeast asia, and long-grain rice in china and short-grain rice in japan and korea.[15] curry is also a common ingredient found in south asia, southeast asia, and east asia (notably japanese curry); however, they are not popular in west asian and central asian cuisines. those curry dishes with origins in south asia usually have a yogurt base, with origins in southeast asia a coconut milk base, and in east asia a stewed meat and vegetable base.[16] south asian cuisine and southeast asian cuisine are often characterized by their extensive use of spices and herbs native to the tropical regions of asia.\n",
      "due to guangdong's location on the southern coast of china, fresh live seafood is a specialty in cantonese cuisine. such markets selling seafood are found across east asia.\n",
      "traditional north indian vegetarian thali with various curries from india. various curry dishes are found across south asia.\n",
      "a market stall at thanin market in chiang mai, thailand, selling readily-made food. market stalls selling food are found across southeast asia.\n",
      "a tajik feast. a large feast is commonly associated with cultures of central asia.\n",
      "typical assyrian cuisine; an example of a type of meal found in west asia.\n",
      "european cuisine (alternatively, \"western cuisine\") include the cuisines of europe and other western countries. european cuisine includes non-indigenous cuisines of north america, australasia, oceania, and latin america as well. the term is used by east asians to contrast with east asian styles of cooking.[17] when used in english, the term may refer more specifically to cuisine in (continental) europe; in this context, a synonym is continental cuisine.\n",
      "an english sunday roast with roast beef, roast potatoes, vegetables and yorkshire pudding\n",
      "traditional pizza from napoli: originally italian dish\n",
      "german sausages and cheese\n",
      "beef stroganoff, a russian dish.\n",
      "oceanian cuisines include australian cuisine, new zealand cuisine, and cuisines from many other islands or island groups throughout oceania. australian cuisine consists of immigrant anglo-celtic derived cuisine, and bushfood prepared and eaten by native aboriginal australian peoples, and various newer asian influences. new zealand cuisine also consists of european inspired dishes, such as pavlova, and native maori cuisine. across oceania, staples include the kumura (sweet potato) and taro, which was/is a staple from papua new guinea to the south pacific. on most islands in the south pacific, fish are widely consumed because of the proximity to the ocean.\n",
      "bush tucker (bush foods) harvested at alice springs desert park in australia\n",
      "a hāngi being prepared, a new zealand māori method of cooking food for special occasions using hot rocks buried in a pit oven.\n",
      "samoan umu, an oven of hot rocks above ground\n",
      "the cuisines of the americas are found across north and south america, and are based on the cuisines of the countries from which the immigrant people came from, primarily europe. however, the traditional european cuisine has been adapted by the addition of many local and native ingredients, and many of their techniques have been added to traditional foods as well. native american cuisine is prepared by indigenous populations across the continent, and its influences can be seen on multi-ethnic latin american cuisine. many staple foods have been seen to be eaten across the continent, such as corn (maize), beans, and potatoes have their own respective native origins. the regional cuisines are north american cuisine, mexican cuisine, central american cuisine, south american cuisine, and caribbean cuisine.\n",
      "bandeja paisa from peñól de guatapé in antioquia, colombia.\n",
      "a jamaican patty wrapped in coco bread.\n",
      "buffalo wings with blue cheese dressing, served with lager beer.\n",
      "tacos filled with several meat types, mainly beef, chicken and pork.[18]\n",
      "\n"
     ]
    }
   ],
   "source": [
    "print(courps_txt)"
   ]
  },
  {
   "cell_type": "code",
   "execution_count": 30,
   "metadata": {},
   "outputs": [],
   "source": [
    "courps_txt = re.sub(r'\\[[0-9]*\\]', ' ' , courps_txt)\n",
    "courps_txt = re.sub(r'\\s+' , ' ' , courps_txt)"
   ]
  },
  {
   "cell_type": "code",
   "execution_count": 31,
   "metadata": {},
   "outputs": [],
   "source": [
    "courps_sentences = nltk.sent_tokenize(courps_txt)\n",
    "courps_wwords = nltk.word_tokenize(courps_txt)\n",
    "\n",
    "# courps_wwords\n",
    "# courps_sentences"
   ]
  },
  {
   "cell_type": "code",
   "execution_count": 32,
   "metadata": {},
   "outputs": [],
   "source": [
    "greeting_inputs = ('hey' , 'good morning' , 'good evening' , 'morning' , 'evening' , 'hi' , 'whatsup')\n",
    "greeting_responses = ['hey' , 'hey how are you' , 'Hello , how you doing' , 'Hello' , 'Welcome , iam good']\n",
    "\n",
    "def choise_response(greeting):\n",
    "    for token in greeting.split():\n",
    "        if token.lower() in greeting_inputs:\n",
    "            return random.choice(greeting_responses)"
   ]
  },
  {
   "cell_type": "code",
   "execution_count": 33,
   "metadata": {},
   "outputs": [],
   "source": [
    "lemetizer = nltk.stem.WordNetLemmatizer()\n",
    "\n",
    "def lemmtize_courps(tokens):\n",
    "    return [lemetizer.lemmatize(token) for token in tokens]\n",
    "\n",
    "remove_puncet  = dict((ord(punctuation) , None) for punctuation in string.punctuation)\n",
    "\n",
    "def get_text(document):\n",
    "    return lemmtize_courps(nltk.word_tokenize(document.lower().translate(remove_puncet)))"
   ]
  },
  {
   "cell_type": "code",
   "execution_count": 34,
   "metadata": {},
   "outputs": [],
   "source": [
    "def responed(user_input):\n",
    "    bot_response = ''\n",
    "    courps_sentences.append(user_input)\n",
    "\n",
    "    word_vectorize = TfidfVectorizer(tokenizer=get_text , stop_words='english')\n",
    "    corpus_word_vector = word_vectorize.fit_transform(courps_sentences)\n",
    "    \n",
    "    cos_sim_vector = cosine_similarity(corpus_word_vector[-1] , corpus_word_vector)\n",
    "    similitry_response_idx = cos_sim_vector.argsort()[0][-2]\n",
    "    \n",
    "    matched_vector = cos_sim_vector.flatten()\n",
    "    matched_vector.sort()\n",
    "    \n",
    "    vector_matched = matched_vector[-2]\n",
    "    \n",
    "    if vector_matched == 0:\n",
    "        bot_response  = bot_response + \"I am sorry  , what is it , again?\"\n",
    "        return bot_response\n",
    "    else:\n",
    "        bot_response = bot_response + courps_sentences[similitry_response_idx]\n",
    "        return bot_response"
   ]
  },
  {
   "cell_type": "code",
   "execution_count": 35,
   "metadata": {},
   "outputs": [
    {
     "name": "stdout",
     "output_type": "stream",
     "text": [
      "Hello , what do you want to learn about Cuisines today ?\n",
      "CuisineBot: hey how are you\n",
      "CuisineBot: african cuisines use a combination of locally available fruits, cereals and vegetables, as well as milk and meat products.\n",
      "CuisineBot: a global cuisine is a cuisine that is practiced around the world, and can be categorized according to the common use of major foodstuffs, including grains, produce and cooking fats.\n",
      "CuisineBot: regional ingredients are developed and commonly contribute to a regional or national cuisine, such as japanese rice in japanese cuisine.\n",
      "CuisineBot: spices at central market in agadir, morocco due to asia's vast size and extremely diverse geography and demographics, asian cuisines are many and varied, and include east asian cuisine, south asian cuisine, southeast asian cuisine, central asian cuisine and west asian cuisine.\n",
      "CuisineBot: Good Bye! :)\n"
     ]
    }
   ],
   "source": [
    "chat = True\n",
    "print('Hello , what do you want to learn about Cuisines today ?')\n",
    "while(chat == True):\n",
    "    user_quary = input()\n",
    "    user_quary = user_quary.lower()\n",
    "    if user_quary != 'quit':\n",
    "        if user_quary == 'thanks' or user_quary == ' thank you' :\n",
    "            chat = False\n",
    "            print('CuisineBot: You are Welcome! :)')\n",
    "        else:\n",
    "            if choise_response(user_quary) != None:\n",
    "                print('CuisineBot: ' + choise_response(user_quary))\n",
    "            else:\n",
    "                print('CuisineBot: ' , end='')\n",
    "                print(responed(user_quary))\n",
    "                courps_sentences.remove(user_quary)\n",
    "    else:\n",
    "        chat = False\n",
    "        print('CuisineBot: Good Bye! :)')"
   ]
  }
 ],
 "metadata": {
  "kernelspec": {
   "display_name": "Python 3",
   "language": "python",
   "name": "python3"
  },
  "language_info": {
   "codemirror_mode": {
    "name": "ipython",
    "version": 3
   },
   "file_extension": ".py",
   "mimetype": "text/x-python",
   "name": "python",
   "nbconvert_exporter": "python",
   "pygments_lexer": "ipython3",
   "version": "3.11.5"
  },
  "orig_nbformat": 4
 },
 "nbformat": 4,
 "nbformat_minor": 2
}
